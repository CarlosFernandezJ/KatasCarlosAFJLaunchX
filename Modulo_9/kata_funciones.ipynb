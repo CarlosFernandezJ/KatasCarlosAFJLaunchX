{
 "cells": [
  {
   "cell_type": "markdown",
   "metadata": {},
   "source": [
    "Ejercicio 1: Trabajar con argumentos en funciones"
   ]
  },
  {
   "cell_type": "code",
   "execution_count": 10,
   "metadata": {},
   "outputs": [],
   "source": [
    "def generate_report(first_tank, second_tank, third_tank):\n",
    "    average = (first_tank + second_tank + third_tank) / 3\n",
    "    return f\"\"\" Report:\n",
    "    Average: {average}%\n",
    "    First: {first_tank}%\n",
    "    Second: {second_tank}%\n",
    "    Third tank: {third_tank}% \n",
    "    \"\"\""
   ]
  },
  {
   "cell_type": "code",
   "execution_count": 14,
   "metadata": {},
   "outputs": [
    {
     "name": "stdout",
     "output_type": "stream",
     "text": [
      " Report:\n",
      "    Average: 66.66666666666667%\n",
      "    First: 90%\n",
      "    Second: 60%\n",
      "    Third tank: 50% \n",
      "    \n"
     ]
    }
   ],
   "source": [
    "print(generate_report(90, 60, 50))"
   ]
  },
  {
   "cell_type": "code",
   "execution_count": 15,
   "metadata": {},
   "outputs": [
    {
     "data": {
      "text/plain": [
       "65.0"
      ]
     },
     "execution_count": 15,
     "metadata": {},
     "output_type": "execute_result"
    }
   ],
   "source": [
    "def average(values):\n",
    "    return sum(values) / len(values)\n",
    "\n",
    "\n",
    "average([40, 80, 75]) "
   ]
  },
  {
   "cell_type": "code",
   "execution_count": 18,
   "metadata": {},
   "outputs": [
    {
     "name": "stdout",
     "output_type": "stream",
     "text": [
      "Fuel Report:\n",
      "    Average: 66.66666666666667%\n",
      "    First tank: 70%\n",
      "    Second tank: 80%\n",
      "    Third tank: 50% \n",
      "    \n"
     ]
    }
   ],
   "source": [
    "def generate_report(first_tank, second_tank, third_tank):\n",
    "    return f\"\"\"Fuel Report:\n",
    "    Average: {average([first_tank, second_tank, third_tank])}%\n",
    "    First tank: {first_tank}%\n",
    "    Second tank: {second_tank}%\n",
    "    Third tank: {third_tank}% \n",
    "    \"\"\"\n",
    "\n",
    "# Call the updated function again with different values\n",
    "print(generate_report(70, 80, 50))"
   ]
  },
  {
   "cell_type": "markdown",
   "metadata": {},
   "source": [
    "Ejercicio 2: Trabajo con argumentos de palabra clave"
   ]
  },
  {
   "cell_type": "code",
   "execution_count": 19,
   "metadata": {},
   "outputs": [
    {
     "name": "stdout",
     "output_type": "stream",
     "text": [
      "\n",
      "    Mission: Moon\n",
      "    Total travel time: 65 minutes\n",
      "    Total fuel left: 1900000 gallons\n",
      "    \n"
     ]
    }
   ],
   "source": [
    "def mission_report(prelaunch_time, flight_time, destination, external_tank, internal_tank):\n",
    "    return f\"\"\"\n",
    "    Mission: {destination}\n",
    "    Total travel time: {prelaunch_time + flight_time} minutes\n",
    "    Total fuel left: {external_tank + internal_tank} gallons\n",
    "    \"\"\"\n",
    "\n",
    "print(mission_report(5, 60, \"Moon\", 1000000, 900000))"
   ]
  },
  {
   "cell_type": "code",
   "execution_count": 23,
   "metadata": {},
   "outputs": [
    {
     "name": "stdout",
     "output_type": "stream",
     "text": [
      "\n",
      "    Mission to Moon\n",
      "    Total travel time: 76 minutes\n",
      "    Total fuel left: 500000\n",
      "    \n"
     ]
    }
   ],
   "source": [
    "def mission_report(destination, *minutes, **fuel_reservoirs):\n",
    "    return f\"\"\"\n",
    "    Mission to {destination}\n",
    "    Total travel time: {sum(minutes)} minutes\n",
    "    Total fuel left: {sum(fuel_reservoirs.values())}\n",
    "    \"\"\"\n",
    "\n",
    "print(mission_report(\"Moon\", 5, 15, 51, internal=300000, external=200000))"
   ]
  },
  {
   "cell_type": "markdown",
   "metadata": {},
   "source": [
    "El siguiente ejercicio no logré completarlo pero ejecuté la respuesta "
   ]
  },
  {
   "cell_type": "code",
   "execution_count": null,
   "metadata": {},
   "outputs": [],
   "source": [
    "\n",
    "\n",
    "#def mission_report(destination, *minutes, **fuel_reservoirs):\n",
    "   # main_report = f\"\"\"\n",
    "    #Mission to {destination}\n",
    "    #Total travel time: {sum(minutes)} minutes\n",
    "    #Total fuel left: {sum(fuel_reservoirs.values())}\n",
    "    #\"\"\"\n",
    "    #for tank_name, gallons in fuel_reservoirs.items():\n",
    "     #   main_report += f\"{tank_name} tank --> {gallons} gallons left\\n\"\n",
    "    #return main_report\n",
    "\n",
    "#print(mission_report(\"Moon\", 8, 11, 55, main=300000, external=200000))"
   ]
  }
 ],
 "metadata": {
  "interpreter": {
   "hash": "61e8b4e35c47a4a1d7881fadc2c9cce2490a658a8a59065f85ab69359e20bc0f"
  },
  "kernelspec": {
   "display_name": "Python 3.10.0 64-bit",
   "language": "python",
   "name": "python3"
  },
  "language_info": {
   "codemirror_mode": {
    "name": "ipython",
    "version": 3
   },
   "file_extension": ".py",
   "mimetype": "text/x-python",
   "name": "python",
   "nbconvert_exporter": "python",
   "pygments_lexer": "ipython3",
   "version": "3.10.0"
  },
  "orig_nbformat": 4
 },
 "nbformat": 4,
 "nbformat_minor": 2
}
